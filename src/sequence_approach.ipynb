{
 "cells": [
  {
   "cell_type": "code",
   "execution_count": 22,
   "metadata": {
    "collapsed": true
   },
   "outputs": [],
   "source": [
    "import tensorflow as tf\n",
    "from tensorflow.python.keras.layers import Dense, Flatten, Conv2D, MaxPooling2D, Dropout, BatchNormalization\n",
    "from tensorflow.python.keras import Model, Input\n",
    "import os\n",
    "import numpy as np\n",
    "import pandas as pd"
   ]
  },
  {
   "cell_type": "code",
   "execution_count": 2,
   "metadata": {},
   "outputs": [],
   "source": [
    "IMAGE_SIZE = 64"
   ]
  },
  {
   "cell_type": "code",
   "execution_count": 6,
   "metadata": {},
   "outputs": [],
   "source": [
    "image_size = IMAGE_SIZE\n",
    "image_input = Input(shape=(image_size,image_size,3), name='input_layer')\n",
    "\n",
    "conv_1 = Conv2D(filters=32,kernel_size=(3,3),padding='same',activation='relu')(image_input)\n",
    "conv_1_pooled = MaxPooling2D(padding='same')(conv_1)\n",
    "\n",
    "conv_2 = Conv2D(filters=32,kernel_size=(3,3),padding='same', activation='relu') (conv_1_pooled)\n",
    "conv_2_pooled = MaxPooling2D(padding='same')(conv_2)\n",
    "\n",
    "conv_flattened = Flatten()(conv_2_pooled)\n",
    "\n",
    "dense_layer_1 = Dense(128, activation='relu') (conv_flattened)\n",
    "dense_layer_1_dropout = Dropout(0.2)(dense_layer_1)\n",
    "\n",
    "dense_layer_2 = Dense(128,activation='relu')(dense_layer_1_dropout)\n",
    "dense_layer_2_dropout = Dropout(0.2)(dense_layer_2)\n",
    "\n",
    "output = Dense(43, activation='softmax', name='output_layer')(dense_layer_2_dropout)\n",
    "\n"
   ]
  },
  {
   "cell_type": "code",
   "execution_count": 8,
   "metadata": {},
   "outputs": [
    {
     "name": "stdout",
     "output_type": "stream",
     "text": [
      "_________________________________________________________________\nLayer (type)                 Output Shape              Param #   \n=================================================================\ninput_layer (InputLayer)     (None, 64, 64, 3)         0         \n_________________________________________________________________\nconv2d_2 (Conv2D)            (None, 64, 64, 32)        896       \n_________________________________________________________________\nmax_pooling2d_2 (MaxPooling2 (None, 32, 32, 32)        0         \n_________________________________________________________________\nconv2d_3 (Conv2D)            (None, 32, 32, 32)        9248      \n_________________________________________________________________\nmax_pooling2d_3 (MaxPooling2 (None, 16, 16, 32)        0         \n_________________________________________________________________\nflatten_1 (Flatten)          (None, 8192)              0         \n_________________________________________________________________\ndense_2 (Dense)              (None, 128)               1048704   \n_________________________________________________________________\ndropout_2 (Dropout)          (None, 128)               0         \n_________________________________________________________________\ndense_3 (Dense)              (None, 128)               16512     \n_________________________________________________________________\ndropout_3 (Dropout)          (None, 128)               0         \n_________________________________________________________________\noutput_layer (Dense)         (None, 43)                5547      \n=================================================================\nTotal params: 1,080,907\nTrainable params: 1,080,907\nNon-trainable params: 0\n_________________________________________________________________\n"
     ]
    }
   ],
   "source": [
    "model = tf.keras.Model(inputs=image_input,outputs = [output])\n",
    "model.summary()"
   ]
  },
  {
   "cell_type": "code",
   "execution_count": 10,
   "metadata": {},
   "outputs": [],
   "source": [
    "model.compile(optimizer='adam',loss={'output_layer':'categorical_crossentropy'})"
   ]
  },
  {
   "cell_type": "code",
   "execution_count": 12,
   "metadata": {},
   "outputs": [],
   "source": [
    "import ast\n",
    "import numpy as np\n",
    "import math\n",
    "import os\n",
    "import random\n",
    "from tensorflow.keras.preprocessing.image import img_to_array as img_to_array\n",
    "from tensorflow.keras.preprocessing.image import load_img as load_img\n",
    "import cv2"
   ]
  },
  {
   "cell_type": "code",
   "execution_count": 13,
   "metadata": {},
   "outputs": [],
   "source": [
    "def load_image(image_path, size):\n",
    "    img = cv2.imread(image_path)\n",
    "    resized = cv2.resize(src=img,dsize=(64,64))\n",
    "    return img_to_array(resized/255)"
   ]
  },
  {
   "cell_type": "code",
   "execution_count": 24,
   "metadata": {},
   "outputs": [],
   "source": [
    "def one_hot_encode(vector, vals):\n",
    "    n = len(vector)\n",
    "    out = np.zeros((n, vals))\n",
    "    out[range(n), vector] = 1\n",
    "    return out"
   ]
  },
  {
   "cell_type": "code",
   "execution_count": 25,
   "metadata": {},
   "outputs": [],
   "source": [
    "directory = 'C:\\\\Users\\\\Korisnik\\\\PycharmProjects\\\\signrecognition_b\\\\src\\\\utils\\\\data\\\\GTSRB\\\\Final_Training\\\\Images\\\\all_jpg'\n",
    "image_names = []\n",
    "all_labels = []\n",
    "\n",
    "for filename in os.listdir(directory):\n",
    "    label_num = int(filename[0:5])\n",
    "    all_labels.append(label_num)\n",
    "    image_names.append(filename)\n",
    "labels = one_hot_encode(all_labels,43).astype(int).tolist()\n",
    "data_dict = {'image_name': image_names,'labels': labels}\n",
    "data = pd.DataFrame(data=data_dict)"
   ]
  },
  {
   "cell_type": "code",
   "execution_count": null,
   "metadata": {},
   "outputs": [],
   "source": []
  }
 ],
 "metadata": {
  "kernelspec": {
   "display_name": "Python 2",
   "language": "python",
   "name": "python2"
  },
  "language_info": {
   "codemirror_mode": {
    "name": "ipython",
    "version": 2
   },
   "file_extension": ".py",
   "mimetype": "text/x-python",
   "name": "python",
   "nbconvert_exporter": "python",
   "pygments_lexer": "ipython2",
   "version": "2.7.6"
  }
 },
 "nbformat": 4,
 "nbformat_minor": 0
}
